{
 "cells": [
  {
   "cell_type": "code",
   "execution_count": 26,
   "metadata": {},
   "outputs": [
    {
     "data": {
      "text/plain": [
       "[['z', 'e', 'a', 'i', ',', 'i', '3', ']', '_', '1', 'F', '4', 'u'],\n",
       " ['.', 'X', 'q', 'F', 'k', 'O', '5', 't', '}', 'c', 'o', 'c', 'p'],\n",
       " ['m', 'm', 'o', '5', 'e', 'H', 'A', 'D', 'r', '[', '.', 'u', '9'],\n",
       " ['i', '0', ']', '1', '5', '3', '4', '.', 'O', 'z', 'n', 'x', 'm'],\n",
       " ['c', 'r', '5', 'c', 'v', '9', 'D', '+', '.', 'm', 'q', 'v', 'V']]"
      ]
     },
     "execution_count": 26,
     "metadata": {},
     "output_type": "execute_result"
    }
   ],
   "source": [
    "import random\n",
    "class HelloGenetic:\n",
    "    def __init__(self, params):\n",
    "        self.ALL_CHARACTERS = list(\"poqiuertqwzmnb<avcvx,.nn-.m}{ñ¿'07098qpoireutukmncvm876453526713254ADFHOLBVXZ>_:;][Ñ+ṕ'}\")\n",
    "        self.HELLO_WORLD = list(\"Hello, world!\")\n",
    "        self.params = params\n",
    "        self.specimen = [None] * self.params[\"generation_size\"]\n",
    "        \n",
    "        self.create_initial_population()\n",
    "        \n",
    "    def create_initial_population(self):\n",
    "        self.specimen = list(\n",
    "            map(lambda _:random.sample(self.ALL_CHARACTERS, len(self.HELLO_WORLD)), self.specimen)\n",
    "        )\n",
    "        \n",
    "    def fitness(self, specimen):\n",
    "        return sum(1 for expected, actual in zip(self.HELLO_WORLD, specimen) if actual == expected) / len(self.HELLO_WORLD)\n",
    "        \n",
    "    def is_converged(self):\n",
    "        if any(self.fitness(specimen) >= self.params[\"fit_threshold\"] for specimen in self.specimen):\n",
    "            return True\n",
    "        return False\n",
    "    \n",
    "    def fitness_all(self):\n",
    "        return list(map(self.fitness, self.specimen))\n",
    "    \n",
    "    def selected_specimen(self, specimen_evaluations):\n",
    "        pass\n",
    "    \n",
    "    def generate_children(self, selected_specimen):\n",
    "        pass\n",
    "    \n",
    "    def get_fit(self):\n",
    "        pass\n",
    "    \n",
    "    def run(self):\n",
    "        generation_number = 1\n",
    "        \n",
    "        while generation_number <= self.params[\"max_generations\"] and not self.is_converged():\n",
    "            specimen_evaluations = self.fitness_all()\n",
    "            selected_specimen = self.specimen(specimen_evaluations)\n",
    "            \n",
    "            self.specimen = self.generate_children(selected_specimen)\n",
    "        \n",
    "        return self.get_fit()\n",
    "        \n",
    "hello = HelloGenetic({\"generation_size\":5})\n",
    "hello.specimen"
   ]
  }
 ],
 "metadata": {
  "kernelspec": {
   "display_name": "Python 3",
   "language": "python",
   "name": "python3"
  },
  "language_info": {
   "codemirror_mode": {
    "name": "ipython",
    "version": 3
   },
   "file_extension": ".py",
   "mimetype": "text/x-python",
   "name": "python",
   "nbconvert_exporter": "python",
   "pygments_lexer": "ipython3",
   "version": "3.7.1"
  }
 },
 "nbformat": 4,
 "nbformat_minor": 2
}
