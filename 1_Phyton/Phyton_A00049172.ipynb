{
 "cells": [
  {
   "cell_type": "code",
   "execution_count": null,
   "metadata": {},
   "outputs": [],
   "source": [
    "# Python Exercises, practice\n",
    "\n",
    "# Student: Ernesto Betancourt Ramirez\n",
    "\n",
    "# A00049172\n"
   ]
  },
  {
   "cell_type": "code",
   "execution_count": null,
   "metadata": {},
   "outputs": [],
   "source": [
    "#1 exercise"
   ]
  },
  {
   "cell_type": "code",
   "execution_count": 1,
   "metadata": {},
   "outputs": [
    {
     "name": "stdout",
     "output_type": "stream",
     "text": [
      "hello world\n"
     ]
    }
   ],
   "source": [
    "print(\"hello world\")"
   ]
  },
  {
   "cell_type": "code",
   "execution_count": null,
   "metadata": {},
   "outputs": [],
   "source": [
    "#2 exercise"
   ]
  },
  {
   "cell_type": "code",
   "execution_count": 3,
   "metadata": {},
   "outputs": [
    {
     "name": "stdout",
     "output_type": "stream",
     "text": [
      "hello world\n"
     ]
    }
   ],
   "source": [
    "variable = \"hello world\"\n",
    "print(variable)"
   ]
  },
  {
   "cell_type": "code",
   "execution_count": null,
   "metadata": {},
   "outputs": [],
   "source": [
    "#3 exercise"
   ]
  },
  {
   "cell_type": "code",
   "execution_count": 5,
   "metadata": {},
   "outputs": [
    {
     "name": "stdout",
     "output_type": "stream",
     "text": [
      "<class 'str'>\n"
     ]
    }
   ],
   "source": [
    "print(type(variable))"
   ]
  },
  {
   "cell_type": "code",
   "execution_count": null,
   "metadata": {},
   "outputs": [],
   "source": [
    "#4 exercise"
   ]
  },
  {
   "cell_type": "code",
   "execution_count": 6,
   "metadata": {},
   "outputs": [
    {
     "data": {
      "text/plain": [
       "'hello '"
      ]
     },
     "execution_count": 6,
     "metadata": {},
     "output_type": "execute_result"
    }
   ],
   "source": [
    "variable.replace(\"world\",\"\")"
   ]
  },
  {
   "cell_type": "code",
   "execution_count": null,
   "metadata": {},
   "outputs": [],
   "source": [
    "#2 exercise"
   ]
  },
  {
   "cell_type": "code",
   "execution_count": 9,
   "metadata": {},
   "outputs": [
    {
     "name": "stdout",
     "output_type": "stream",
     "text": [
      "1\n",
      "3\n",
      "5\n",
      "7\n",
      "9\n",
      "11\n",
      "13\n",
      "15\n",
      "17\n",
      "19\n"
     ]
    }
   ],
   "source": [
    "l = list(range(1,21))\n",
    "for i in l:\n",
    "    if i%2 != 0:\n",
    "        print(i)"
   ]
  },
  {
   "cell_type": "code",
   "execution_count": null,
   "metadata": {},
   "outputs": [],
   "source": [
    "#3 exercise"
   ]
  },
  {
   "cell_type": "code",
   "execution_count": 1,
   "metadata": {},
   "outputs": [
    {
     "name": "stdout",
     "output_type": "stream",
     "text": [
      "1\n",
      "4\n",
      "9\n",
      "16\n",
      "25\n",
      "36\n",
      "49\n",
      "64\n",
      "81\n",
      "100\n",
      "121\n",
      "144\n",
      "169\n",
      "196\n",
      "225\n",
      "256\n",
      "289\n",
      "324\n",
      "361\n",
      "400\n"
     ]
    }
   ],
   "source": [
    "from function import expo\n",
    "\n",
    "l = list(range(1,21))\n",
    "n = 2\n",
    "\n",
    "expo(l,n)"
   ]
  },
  {
   "cell_type": "code",
   "execution_count": null,
   "metadata": {},
   "outputs": [],
   "source": [
    "#4 exercise"
   ]
  },
  {
   "cell_type": "code",
   "execution_count": 37,
   "metadata": {},
   "outputs": [
    {
     "name": "stdout",
     "output_type": "stream",
     "text": [
      "dict_items([('1', '1'), ('2', 'a'), ('3', '?'), ('4', '')])\n"
     ]
    }
   ],
   "source": [
    "diccionario = {'1':\"1\",'2':\"a\",'3':\"?\",'4':\"\"}\n",
    "print(diccionario.items())"
   ]
  },
  {
   "cell_type": "code",
   "execution_count": null,
   "metadata": {},
   "outputs": [],
   "source": [
    "#5 exercise"
   ]
  },
  {
   "cell_type": "code",
   "execution_count": 17,
   "metadata": {},
   "outputs": [
    {
     "data": {
      "text/plain": [
       "'zpam'"
      ]
     },
     "execution_count": 17,
     "metadata": {},
     "output_type": "execute_result"
    }
   ],
   "source": [
    "s = \"Spam\"\n",
    "s.replace(\"S\",\"z\")"
   ]
  },
  {
   "cell_type": "code",
   "execution_count": null,
   "metadata": {},
   "outputs": [],
   "source": [
    "#6 exercise"
   ]
  },
  {
   "cell_type": "code",
   "execution_count": 6,
   "metadata": {},
   "outputs": [
    {
     "name": "stdout",
     "output_type": "stream",
     "text": [
      "14\n"
     ]
    }
   ],
   "source": [
    "def perimeter(x,y):\n",
    "    return (2*x)+(2*y)\n",
    "print(perimeter(2,5))"
   ]
  },
  {
   "cell_type": "code",
   "execution_count": null,
   "metadata": {},
   "outputs": [],
   "source": [
    "#7 exercise"
   ]
  },
  {
   "cell_type": "code",
   "execution_count": 98,
   "metadata": {},
   "outputs": [
    {
     "name": "stdout",
     "output_type": "stream",
     "text": [
      "Pedro's BMI is: 21.484374999999996\n",
      "Sandra's BMI is: 22.22222222222222\n",
      "Juan's BMI is: 20.061728395061728\n",
      "Lisa's BMI is: 20.811654526534856\n",
      "Lady's BMI is: 21.40309155766944\n"
     ]
    }
   ],
   "source": [
    "class Person(object):\n",
    "    \n",
    "    def __init__(self,name,height,weight):\n",
    "        self.name = name\n",
    "        self.height = height\n",
    "        self.weight = weight\n",
    "    \n",
    "    def bmi(self):\n",
    "        x = (self.weight)/((self.height)**2)\n",
    "        print(self.name+\"'s BMI is: \"+ str(x))\n",
    "\n",
    "l = [Person(\"Pedro\",1.6,55),\n",
    "     Person(\"Sandra\",1.5,50),\n",
    "     Person(\"Juan\",1.8,65),\n",
    "     Person(\"Lisa\",1.55,50),\n",
    "     Person(\"Lady\",1.45,45)]\n",
    "\n",
    "for i in l:\n",
    "    i.bmi()"
   ]
  },
  {
   "cell_type": "code",
   "execution_count": null,
   "metadata": {},
   "outputs": [],
   "source": [
    "#8 exercise"
   ]
  },
  {
   "cell_type": "code",
   "execution_count": 11,
   "metadata": {},
   "outputs": [
    {
     "name": "stdout",
     "output_type": "stream",
     "text": [
      "1\n",
      "whiz\n",
      "bang\n",
      "whiz\n",
      "5\n",
      "whiz\n",
      "7\n",
      "whiz\n",
      "bang\n",
      "whiz\n",
      "11\n",
      "whiz\n",
      "13\n",
      "whiz\n",
      "bang\n",
      "whiz\n",
      "17\n",
      "whiz\n",
      "19\n",
      "whiz\n",
      "bang\n",
      "whiz\n",
      "23\n",
      "whiz\n",
      "25\n",
      "whiz\n",
      "bang\n",
      "whiz\n",
      "29\n",
      "whiz\n",
      "31\n",
      "whiz\n",
      "bang\n",
      "whiz\n",
      "35\n",
      "whiz\n",
      "37\n",
      "whiz\n",
      "bang\n",
      "whiz\n",
      "41\n",
      "whiz\n",
      "43\n",
      "whiz\n",
      "bang\n",
      "whiz\n",
      "47\n",
      "whiz\n",
      "49\n",
      "whiz\n",
      "bang\n",
      "whiz\n",
      "53\n",
      "whiz\n",
      "55\n",
      "whiz\n",
      "bang\n",
      "whiz\n",
      "59\n",
      "whiz\n",
      "61\n",
      "whiz\n",
      "bang\n",
      "whiz\n",
      "65\n",
      "whiz\n",
      "67\n",
      "whiz\n",
      "bang\n",
      "whiz\n",
      "71\n",
      "whiz\n",
      "73\n",
      "whiz\n",
      "bang\n",
      "whiz\n",
      "77\n",
      "whiz\n",
      "79\n",
      "whiz\n",
      "bang\n",
      "whiz\n",
      "83\n",
      "whiz\n",
      "85\n",
      "whiz\n",
      "bang\n",
      "whiz\n",
      "89\n",
      "whiz\n",
      "91\n",
      "whiz\n",
      "bang\n",
      "whiz\n",
      "95\n",
      "whiz\n",
      "97\n",
      "whiz\n",
      "bang\n",
      "whiz\n"
     ]
    }
   ],
   "source": [
    "ln = list(range(1,101))\n",
    "\n",
    "for i in ln:\n",
    "    if i%2 == 0:\n",
    "        print(\"whiz\")\n",
    "    elif i%3 == 0:\n",
    "        print(\"bang\")\n",
    "    else:\n",
    "        print (i)"
   ]
  }
 ],
 "metadata": {
  "kernelspec": {
   "display_name": "Python 3",
   "language": "python",
   "name": "python3"
  },
  "language_info": {
   "codemirror_mode": {
    "name": "ipython",
    "version": 3
   },
   "file_extension": ".py",
   "mimetype": "text/x-python",
   "name": "python",
   "nbconvert_exporter": "python",
   "pygments_lexer": "ipython3",
   "version": "3.7.3"
  }
 },
 "nbformat": 4,
 "nbformat_minor": 2
}
