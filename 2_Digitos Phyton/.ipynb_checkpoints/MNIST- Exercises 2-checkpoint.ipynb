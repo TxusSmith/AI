{
 "cells": [
  {
   "cell_type": "markdown",
   "metadata": {},
   "source": [
    "# MNIST (dígitos) solución tradicional\n",
    "\n",
    "__Integrantes:__\n",
    "\n",
    "+ Nombre: Ernesto Betancourt Ramirez\n",
    "+ Nombre:\n",
    "\n",
    "__Números asignados:__ 9 y 7\n"
   ]
  },
  {
   "cell_type": "markdown",
   "metadata": {},
   "source": [
    "## Taller \n",
    "\n",
    "_Suponga que trabajan para el desarrollo de un sistema de lectura y reconocimiento de dígitos. Para este trabajo le han proporcionado un conjunto de fotos en grises con el fin que proponga una solución de programación tradicional, es decir, sin el uso de la inteligencia artificial. El software que proponga debe tener la capacidad de determinar con una precisión una muestra de los datos que le han suministrado_\n",
    "\n",
    "Durante la clase se le proporcionaran dos números para trabajar:\n",
    "+ 1 y 5\n",
    "+ 8 y 2\n",
    "+ 9 y 7\n",
    "+ 0 y 3\n",
    "+ 4 y 6\n",
    "\n",
    "**Evaluación del método**\n",
    "\n",
    "Seleccione aleatoriamente una muestra de 30% de los datos, en donde se incluya un balance entre los dígitos asignados (despliéguelo y evidencie las cantidades).\n",
    "\n",
    "Utilice la muestra obtenida y evalué el software (proceso o métodos) que ha propuesto, es decir, a cuantos números acertó (VP) contra los que no acertó (FP), calcule los siguientes datos:\n",
    "\n",
    "```\n",
    "Para el primer número\n",
    "\n",
    "Reales =  número de datos\n",
    "\n",
    "Estimados = cantidad de dígitos estimados correctamente \n",
    "\n",
    "Para el segundo número\n",
    "\n",
    "Reales =  número de datos\n",
    "\n",
    "Estimados = cantidad de dígitos estimados correctamente\n",
    "```\n",
    "_Para todos los números que le corresponden_\n",
    "\n",
    "$ Precision = \\frac{VP}{VP+FP}$\n",
    "\n",
    "\n",
    "Finalmente, despliegue el tiempo que tomo todo el proceso de evaluación."
   ]
  },
  {
   "cell_type": "markdown",
   "metadata": {
    "heading_collapsed": true
   },
   "source": [
    "#### Entregas\n",
    "\n",
    "+ Prepare una presentación donde muestre los resultados\n",
    "+ Envié por un correo electrónico este archivo ipynb con la solución y resultados conseguidos\n"
   ]
  },
  {
   "cell_type": "markdown",
   "metadata": {},
   "source": [
    "#### Paquetes"
   ]
  },
  {
   "cell_type": "code",
   "execution_count": 27,
   "metadata": {},
   "outputs": [],
   "source": [
    "from sklearn.datasets import load_digits\n",
    "import pylab as pl\n",
    "import sklearn"
   ]
  },
  {
   "cell_type": "code",
   "execution_count": 28,
   "metadata": {},
   "outputs": [
    {
     "data": {
      "text/plain": [
       "sklearn.utils.Bunch"
      ]
     },
     "execution_count": 28,
     "metadata": {},
     "output_type": "execute_result"
    }
   ],
   "source": [
    "# cargamos los datos y desplegamos el objeto\n",
    "digits = load_digits()\n",
    "type(digits)"
   ]
  },
  {
   "cell_type": "code",
   "execution_count": 29,
   "metadata": {},
   "outputs": [],
   "source": [
    "# observe las propieades del objeto, ¿a que tipo se le parece?\n",
    "?sklearn.utils.Bunch"
   ]
  },
  {
   "cell_type": "code",
   "execution_count": 45,
   "metadata": {},
   "outputs": [
    {
     "name": "stdout",
     "output_type": "stream",
     "text": [
      "Se tienen en total: 1797 imágenes\n",
      "[[ 0.  0.  0.  5. 14. 12.  2.  0.]\n",
      " [ 0.  0.  7. 15.  8. 14.  4.  0.]\n",
      " [ 0.  0.  6.  2.  3. 13.  1.  0.]\n",
      " [ 0.  0.  0.  1. 13.  4.  0.  0.]\n",
      " [ 0.  0.  1. 11.  9.  0.  0.  0.]\n",
      " [ 0.  8. 16. 13.  0.  0.  0.  0.]\n",
      " [ 0.  5. 14. 16. 11.  2.  0.  0.]\n",
      " [ 0.  0.  0.  6. 12. 13.  3.  0.]]\n"
     ]
    },
    {
     "data": {
      "text/plain": [
       "<Figure size 432x288 with 0 Axes>"
      ]
     },
     "metadata": {},
     "output_type": "display_data"
    },
    {
     "data": {
      "image/png": "[encoded data removed]",
      "text/plain": [
       "<Figure size 288x288 with 1 Axes>"
      ]
     },
     "metadata": {
      "needs_background": "light"
     },
     "output_type": "display_data"
    }
   ],
   "source": [
    "pl.gray() # Queremos las imágenes en grises\n",
    "pl.matshow(digits.images[50]) # Imprimir una imagen dada\n",
    "numImagenes = len(digits.images) # Numero de imagenes, len es un método que provee el tamaño del arreglo\n",
    "print(\"Se tienen en total:\", numImagenes, \"imágenes\")\n",
    "print(digits.images[50]) # Ver su representación en pixeles"
   ]
  },
  {
   "cell_type": "code",
   "execution_count": 5,
   "metadata": {},
   "outputs": [
    {
     "name": "stdout",
     "output_type": "stream",
     "text": [
      "Se tienen en total: 1797 imágenes\n",
      "[[ 0.  0.  7.  8. 13. 16. 15.  1.]\n",
      " [ 0.  0.  7.  7.  4. 11. 12.  0.]\n",
      " [ 0.  0.  0.  0.  8. 13.  1.  0.]\n",
      " [ 0.  4.  8.  8. 15. 15.  6.  0.]\n",
      " [ 0.  2. 11. 15. 15.  4.  0.  0.]\n",
      " [ 0.  0.  0. 16.  5.  0.  0.  0.]\n",
      " [ 0.  0.  9. 15.  1.  0.  0.  0.]\n",
      " [ 0.  0. 13.  5.  0.  0.  0.  0.]]\n",
      "7\n"
     ]
    },
    {
     "data": {
      "text/plain": [
       "<Figure size 432x288 with 0 Axes>"
      ]
     },
     "metadata": {},
     "output_type": "display_data"
    },
    {
     "data": {
      "image/png": "[encoded data removed]",
      "text/plain": [
       "<Figure size 288x288 with 1 Axes>"
      ]
     },
     "metadata": {
      "needs_background": "light"
     },
     "output_type": "display_data"
    }
   ],
   "source": [
    "from sklearn.datasets import load_digits\n",
    "import pylab as pl\n",
    "import sklearn\n",
    "\n",
    "# cargamos los datos y desplegamos el objeto\n",
    "digits = load_digits()\n",
    "type(digits)\n",
    "\n",
    "n = 7\n",
    "\n",
    "pl.gray() # Queremos las imágenes en grises\n",
    "pl.matshow(digits.images[n]) # Imprimir una imagen dada\n",
    "numImagenes = len(digits.images) # Numero de imagenes, len es un método que provee el tamaño del arreglo\n",
    "print(\"Se tienen en total:\", numImagenes, \"imágenes\")\n",
    "print(digits.images[n]) # Ver su representación en pixeles\n",
    "print(digits.target[n])"
   ]
  },
  {
   "cell_type": "code",
   "execution_count": null,
   "metadata": {},
   "outputs": [],
   "source": [
    "def muestra():\n",
    "    for i in range(539):\n",
    "        r=random.randint(0,1797)"
   ]
  },
  {
   "cell_type": "code",
   "execution_count": 4,
   "metadata": {},
   "outputs": [
    {
     "ename": "KeyboardInterrupt",
     "evalue": "",
     "output_type": "error",
     "traceback": [
      "\u001b[1;31m---------------------------------------------------------------------------\u001b[0m",
      "\u001b[1;31mKeyboardInterrupt\u001b[0m                         Traceback (most recent call last)",
      "\u001b[1;32m<ipython-input-4-83bc7d0032fa>\u001b[0m in \u001b[0;36m<module>\u001b[1;34m\u001b[0m\n\u001b[0;32m      1\u001b[0m \u001b[0mcount\u001b[0m \u001b[1;33m=\u001b[0m \u001b[1;36m0\u001b[0m\u001b[1;33m\u001b[0m\u001b[1;33m\u001b[0m\u001b[0m\n\u001b[0;32m      2\u001b[0m \u001b[1;32mwhile\u001b[0m\u001b[1;33m(\u001b[0m\u001b[0mcount\u001b[0m \u001b[1;33m<\u001b[0m \u001b[0mnumImagenes\u001b[0m\u001b[1;33m)\u001b[0m\u001b[1;33m:\u001b[0m\u001b[1;33m\u001b[0m\u001b[1;33m\u001b[0m\u001b[0m\n\u001b[1;32m----> 3\u001b[1;33m     \u001b[1;32mif\u001b[0m \u001b[0mdigits\u001b[0m\u001b[1;33m.\u001b[0m\u001b[0mtarget\u001b[0m\u001b[1;33m[\u001b[0m\u001b[0mcount\u001b[0m\u001b[1;33m]\u001b[0m \u001b[1;33m==\u001b[0m \u001b[1;36m7\u001b[0m\u001b[1;33m:\u001b[0m\u001b[1;33m\u001b[0m\u001b[1;33m\u001b[0m\u001b[0m\n\u001b[0m\u001b[0;32m      4\u001b[0m         \u001b[0mprint\u001b[0m\u001b[1;33m(\u001b[0m\u001b[0mcount\u001b[0m\u001b[1;33m)\u001b[0m\u001b[1;33m\u001b[0m\u001b[1;33m\u001b[0m\u001b[0m\n\u001b[0;32m      5\u001b[0m         \u001b[0mcount\u001b[0m \u001b[1;33m=\u001b[0m \u001b[0mcount\u001b[0m \u001b[1;33m+\u001b[0m \u001b[1;36m1\u001b[0m\u001b[1;33m\u001b[0m\u001b[1;33m\u001b[0m\u001b[0m\n",
      "\u001b[1;32m~\\Anaconda3\\lib\\site-packages\\sklearn\\utils\\__init__.py\u001b[0m in \u001b[0;36m__getattr__\u001b[1;34m(self, key)\u001b[0m\n\u001b[0;32m    102\u001b[0m \u001b[1;33m\u001b[0m\u001b[0m\n\u001b[0;32m    103\u001b[0m     \u001b[1;32mdef\u001b[0m \u001b[0m__getattr__\u001b[0m\u001b[1;33m(\u001b[0m\u001b[0mself\u001b[0m\u001b[1;33m,\u001b[0m \u001b[0mkey\u001b[0m\u001b[1;33m)\u001b[0m\u001b[1;33m:\u001b[0m\u001b[1;33m\u001b[0m\u001b[1;33m\u001b[0m\u001b[0m\n\u001b[1;32m--> 104\u001b[1;33m         \u001b[1;32mtry\u001b[0m\u001b[1;33m:\u001b[0m\u001b[1;33m\u001b[0m\u001b[1;33m\u001b[0m\u001b[0m\n\u001b[0m\u001b[0;32m    105\u001b[0m             \u001b[1;32mreturn\u001b[0m \u001b[0mself\u001b[0m\u001b[1;33m[\u001b[0m\u001b[0mkey\u001b[0m\u001b[1;33m]\u001b[0m\u001b[1;33m\u001b[0m\u001b[1;33m\u001b[0m\u001b[0m\n\u001b[0;32m    106\u001b[0m         \u001b[1;32mexcept\u001b[0m \u001b[0mKeyError\u001b[0m\u001b[1;33m:\u001b[0m\u001b[1;33m\u001b[0m\u001b[1;33m\u001b[0m\u001b[0m\n",
      "\u001b[1;31mKeyboardInterrupt\u001b[0m: "
     ]
    }
   ],
   "source": [
    "count = 0\n",
    "while(count < numImagenes):\n",
    "    if digits.target[count] == 7:\n",
    "        print(count)\n",
    "        count = count + 1"
   ]
  },
  {
   "cell_type": "markdown",
   "metadata": {},
   "source": [
    "Observe cada atributo del objeto digits, recorra cada imagen y obtenga su representación (_target_)"
   ]
  },
  {
   "cell_type": "markdown",
   "metadata": {
    "heading_collapsed": true
   },
   "source": [
    "#### Solución"
   ]
  }
 ],
 "metadata": {
  "kernelspec": {
   "display_name": "Python 3",
   "language": "python",
   "name": "python3"
  },
  "language_info": {
   "codemirror_mode": {
    "name": "ipython",
    "version": 3
   },
   "file_extension": ".py",
   "mimetype": "text/x-python",
   "name": "python",
   "nbconvert_exporter": "python",
   "pygments_lexer": "ipython3",
   "version": "3.7.3"
  }
 },
 "nbformat": 4,
 "nbformat_minor": 2
}
